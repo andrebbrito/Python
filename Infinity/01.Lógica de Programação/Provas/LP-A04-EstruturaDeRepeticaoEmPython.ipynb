{
 "cells": [
  {
   "cell_type": "markdown",
   "metadata": {},
   "source": [
    "Faça um programa que receba 2 (Dois) números inteiros e positivos e imprima na tela todos os números primos que existem entre eles.\n",
    "\n",
    "Exemplo:\n",
    "\n",
    "Entrada\n",
    "1 10\n",
    "\n",
    "Saída\n",
    "\n",
    "2 3 5 7"
   ]
  },
  {
   "cell_type": "code",
   "execution_count": 23,
   "metadata": {},
   "outputs": [
    {
     "name": "stdout",
     "output_type": "stream",
     "text": [
      " 2 3 5 7\n"
     ]
    }
   ],
   "source": [
    "\n",
    "def isPrimo(numero):\n",
    "    numero = numero          \n",
    "    numMultiplo = 0\n",
    "\n",
    "    for count in range(2,numero):\n",
    "        if (numero % count == 0):            \n",
    "            numMultiplo += 1\n",
    "\n",
    "\n",
    "    if numMultiplo == 0:\n",
    "        return 1\n",
    "    else:\n",
    "        return 0\n",
    "\n",
    "\n",
    "Numero1 = 1\n",
    "Numero2 = 10\n",
    "NumerosPrimos = \"\"\n",
    "\n",
    "for x in range(Numero1,Numero2):\n",
    "    if (isPrimo(x) == 1) and x > 1:\n",
    "        NumerosPrimos = NumerosPrimos + ' ' + str(x)\n",
    "\n",
    "print(NumerosPrimos)\n"
   ]
  },
  {
   "cell_type": "markdown",
   "metadata": {},
   "source": [
    "Você foi contratado pela prefeitura para criar um programa que calcule a quantidade de água desperdiçada em vazamentos de água por toda a cidade.\n",
    "\n",
    "O programa deve receber a quantidade de vazamentos notificados a prefeitura no dia e para cada um deles deve pedir a quantidade de água perdida por hora e a quantidade de horas que o vazamento ficou aberto e ao final da execução exibir o total de água desperdiçada \n",
    "\n",
    "Exemplo:\n",
    "\n",
    "Entrada:\n",
    "\n",
    "Vazamentos: 2\n",
    "\n",
    "litros por hora: 10 horas: 2\n",
    "\n",
    "litros por horas: 4 horas: 1 \n",
    "\n",
    "Saída:\n",
    "\n",
    "24 litros"
   ]
  },
  {
   "cell_type": "code",
   "execution_count": 6,
   "metadata": {},
   "outputs": [
    {
     "name": "stdout",
     "output_type": "stream",
     "text": [
      "Litros por hora: 10.0 horas: 2.0\n",
      "Litros por hora: 4.0 horas: 1.0\n",
      "24.0 litros\n"
     ]
    }
   ],
   "source": [
    "vazamento = 2\n",
    "qtdPerdidaPorHoraEmLitros = 0\n",
    "qtdHoras = 0\n",
    "qtdLitros = 0\n",
    "\n",
    "for x in range(0,vazamento):       \n",
    "       \n",
    "       qtdPerdidaPorHora = float(input(\"Qtd Horas: \")) \n",
    "       qtdPerdida = float(input(\"Qtd Perdida: \"))      \n",
    "             \n",
    "       print(\"Litros por hora: \" + str(qtdPerdidaPorHora) + \" horas: \" +  str(qtdPerdida))      \n",
    "       qtdLitros = qtdLitros + (qtdPerdida * qtdPerdidaPorHora)      \n",
    "       \n",
    "    \n",
    "print(str(qtdLitros) + \" litros\")   \n",
    " "
   ]
  },
  {
   "cell_type": "code",
   "execution_count": 12,
   "metadata": {},
   "outputs": [
    {
     "name": "stdout",
     "output_type": "stream",
     "text": [
      "siga em frente\n",
      "siga em frente\n",
      "vire a direita\n",
      "siga em frente\n",
      "vire a esquerda\n",
      "siga em frente\n",
      "siga em frente\n",
      "PAROU\n",
      "0.7\n"
     ]
    }
   ],
   "source": [
    "km = 0\n",
    "\n",
    "while True:   \n",
    "    x = int(input(\"opcao\"))\n",
    "    if (x==4):\n",
    "       print('PAROU')\n",
    "       break \n",
    "    elif (x==1):\n",
    "        print('siga em frente')\n",
    "        km += 0.1\n",
    "    elif (x==2):\n",
    "        print('vire a esquerda')\n",
    "        km += 0.1\n",
    "    elif (x==3):\n",
    "        print('vire a direita')\n",
    "        km += 0.1       \n",
    "        \n",
    "print(km)    "
   ]
  }
 ],
 "metadata": {
  "kernelspec": {
   "display_name": "Python 3.10.5 64-bit",
   "language": "python",
   "name": "python3"
  },
  "language_info": {
   "codemirror_mode": {
    "name": "ipython",
    "version": 3
   },
   "file_extension": ".py",
   "mimetype": "text/x-python",
   "name": "python",
   "nbconvert_exporter": "python",
   "pygments_lexer": "ipython3",
   "version": "3.10.5"
  },
  "orig_nbformat": 4,
  "vscode": {
   "interpreter": {
    "hash": "69a5bf37dd3aa96827bed6961368c96a168bb8dd00c8fc591bdeb7f585607dae"
   }
  }
 },
 "nbformat": 4,
 "nbformat_minor": 2
}
