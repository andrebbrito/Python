{
 "cells": [
  {
   "cell_type": "markdown",
   "metadata": {},
   "source": [
    " Crie um algoritmo que recebe como entrada o dia e o mês de nascimento e retorna o signo, seguindo as faixas de valores informados:\n",
    "\n",
    "- Áries: de 21 março a 20 abril;\n",
    "- Touro: de 21 abril a 20 maio; \n",
    "- Gêmeos: de 21 maio a 20 junho;\n",
    "- Câncer: de 21 junho a 22 julho;\n",
    "- Leão: de 23 julho a 22 agosto; \n",
    "- Virgem: de 23 agosto a 22 setembro; \n",
    "- Libra: de 23 setembro a 22 outubro; \n",
    "- Escorpião: de 23 outubro a 21 novembro; \n",
    "- Sagitário: de 22 novembro a 21 dezembro; \n",
    "- Capricórnio: de 22 dezembro a 20 janeiro; \n",
    "- Aquário: de 21 janeiro a 18 fevereiro; \n",
    "- Peixes: de 19 fevereiro a 20 março."
   ]
  },
  {
   "cell_type": "code",
   "execution_count": 64,
   "metadata": {},
   "outputs": [
    {
     "name": "stdout",
     "output_type": "stream",
     "text": [
      "A data 02/02/2022 está relacionada ao Signo: Aquário\n"
     ]
    }
   ],
   "source": [
    "from datetime import datetime\n",
    "\n",
    "data = input('Definir uma Data: ')\n",
    "\n",
    "dataNascimento = datetime.strptime(data, '%d/%m/%Y')\n",
    "ano = str(dataNascimento.year)\n",
    "signo = \"\"\n",
    "\n",
    "if   (dataNascimento >= datetime.strptime('01/01/' + ano, '%d/%m/%Y')) and (dataNascimento <= datetime.strptime('20/01/' + ano, '%d/%m/%Y')):\n",
    "        signo = \"Capricórnio\"\n",
    "elif (dataNascimento >= datetime.strptime('21/01/' + ano, '%d/%m/%Y')) and (dataNascimento <= datetime.strptime('18/02/' + ano, '%d/%m/%Y')):\n",
    "        signo = \"Aquário\"\n",
    "elif (dataNascimento >= datetime.strptime('19/02/' + ano, '%d/%m/%Y')) and (dataNascimento <= datetime.strptime('20/03/' + ano, '%d/%m/%Y')):\n",
    "        signo = \"Peixes\"        \n",
    "elif (dataNascimento >= datetime.strptime('21/03/' + ano, '%d/%m/%Y')) and (dataNascimento <= datetime.strptime('20/04/' + ano, '%d/%m/%Y')):\n",
    "        signo = \"Áries\"\n",
    "elif (dataNascimento >= datetime.strptime('21/04/' + ano, '%d/%m/%Y')) and (dataNascimento <= datetime.strptime('20/05/' + ano, '%d/%m/%Y')):   \n",
    "        signo = \"Touro\"\n",
    "elif (dataNascimento >= datetime.strptime('21/05/' + ano, '%d/%m/%Y')) and (dataNascimento <= datetime.strptime('20/06/' + ano, '%d/%m/%Y')):   \n",
    "        signo = \"Gêmeos\"\n",
    "elif (dataNascimento >= datetime.strptime('21/06/' + ano, '%d/%m/%Y')) and (dataNascimento <= datetime.strptime('22/07/' + ano, '%d/%m/%Y')):   \n",
    "        signo = \"Câncer\"\n",
    "elif (dataNascimento >= datetime.strptime('23/07/' + ano, '%d/%m/%Y')) and (dataNascimento <= datetime.strptime('22/08/' + ano, '%d/%m/%Y')):   \n",
    "        signo = \"Leão\"\n",
    "elif (dataNascimento >= datetime.strptime('23/08/' + ano, '%d/%m/%Y')) and (dataNascimento <= datetime.strptime('22/09/' + ano, '%d/%m/%Y')):   \n",
    "        signo = \"Virgem\"\n",
    "elif (dataNascimento >= datetime.strptime('23/09/' + ano, '%d/%m/%Y')) and (dataNascimento <= datetime.strptime('22/10/' + ano, '%d/%m/%Y')):   \n",
    "        signo = \"Libra\"\n",
    "elif (dataNascimento >= datetime.strptime('23/10/' + ano, '%d/%m/%Y')) and (dataNascimento <= datetime.strptime('21/11/' + ano, '%d/%m/%Y')):   \n",
    "        signo = \"Escorpião\"\n",
    "elif (dataNascimento >= datetime.strptime('22/11/' + ano, '%d/%m/%Y')) and (dataNascimento <= datetime.strptime('21/12/' + ano, '%d/%m/%Y')):   \n",
    "        signo = \"Sagitário\"        \n",
    "elif (dataNascimento >= datetime.strptime('22/12/' + ano, '%d/%m/%Y')) and (dataNascimento <= datetime.strptime('31/12/' + ano, '%d/%m/%Y')):   \n",
    "        signo = \"Capricórnio\"       \n",
    "        \n",
    "print('Quem nasce em ' + data + ' é do signo de ' + signo)        \n",
    "    "
   ]
  },
  {
   "cell_type": "markdown",
   "metadata": {},
   "source": [
    "Faça um algoritmo que leia a idade de uma pessoa expressa em anos, meses e dias e escreva a idade dessa pessoa expressa apenas em dias. \n",
    "Considerar ano com 365 dias e mês com 30 dias.\n",
    "\n",
    "Entrada\n",
    "21 6 1\n",
    "\n",
    "Saída\n",
    "7846"
   ]
  },
  {
   "cell_type": "code",
   "execution_count": 82,
   "metadata": {},
   "outputs": [
    {
     "name": "stdout",
     "output_type": "stream",
     "text": [
      "7.966666666666667\n"
     ]
    }
   ],
   "source": [
    "from datetime import datetime\n",
    "\n",
    "# 11/06/1978\n",
    "\n",
    "data = input('Data de nascimento: ')\n",
    "\n",
    "dataNascimento = datetime.strptime(data, '%d/%m/%Y')\n",
    "dataAtual = datetime.now()\n",
    "\n",
    "qtddias = dataAtual - dataNascimento\n",
    "print(qtddias.days)\n"
   ]
  },
  {
   "cell_type": "markdown",
   "metadata": {},
   "source": [
    "Escreva um algoritmo para ler as dimensões de um retângulo (base e altura), calcular e escrever a área do retângulo\n",
    "\n",
    "Ex:\n",
    "\n",
    "Entrada \n",
    "\n",
    "5 5 \n",
    "\n",
    "Saída \n",
    "\n",
    "25"
   ]
  },
  {
   "cell_type": "code",
   "execution_count": 83,
   "metadata": {},
   "outputs": [
    {
     "name": "stdout",
     "output_type": "stream",
     "text": [
      "25\n"
     ]
    }
   ],
   "source": [
    "base = 5\n",
    "altura = 5\n",
    "\n",
    "areaTrinagulo = base * altura\n",
    "print(areaTrinagulo)\n"
   ]
  },
  {
   "cell_type": "markdown",
   "metadata": {},
   "source": [
    "Desenvolva um programa que receba um número inteiro positivo, entre 1 e 100, e diga se ele é primo ou não: \n",
    "Lembre-se: Um número primo é um número que só é divisível apenas por 1 e por ele mesmo"
   ]
  },
  {
   "cell_type": "code",
   "execution_count": 93,
   "metadata": {},
   "outputs": [
    {
     "name": "stdout",
     "output_type": "stream",
     "text": [
      "Múltiplo de 2\n",
      "Múltiplo de 4\n",
      "Múltiplo de 8\n",
      "Múltiplo de 16\n",
      "Múltiplo de 32\n",
      "64 NÃO É um número primo\n"
     ]
    }
   ],
   "source": [
    "numero = 64\n",
    "numMultiplo = 0\n",
    "\n",
    "for count in range(2,numero):\n",
    "    if (numero % count == 0):\n",
    "        print(\"Múltiplo de\",count)\n",
    "        numMultiplo += 1\n",
    "\n",
    "\n",
    "if numMultiplo == 0:\n",
    "    print(str(numero) + \" É um número primo\")\n",
    "else:\n",
    "    print(str(numero) + \" NÃO É um número primo\")    \n"
   ]
  }
 ],
 "metadata": {
  "kernelspec": {
   "display_name": "Python 3.10.5 64-bit",
   "language": "python",
   "name": "python3"
  },
  "language_info": {
   "codemirror_mode": {
    "name": "ipython",
    "version": 3
   },
   "file_extension": ".py",
   "mimetype": "text/x-python",
   "name": "python",
   "nbconvert_exporter": "python",
   "pygments_lexer": "ipython3",
   "version": "3.10.5"
  },
  "orig_nbformat": 4,
  "vscode": {
   "interpreter": {
    "hash": "69a5bf37dd3aa96827bed6961368c96a168bb8dd00c8fc591bdeb7f585607dae"
   }
  }
 },
 "nbformat": 4,
 "nbformat_minor": 2
}
