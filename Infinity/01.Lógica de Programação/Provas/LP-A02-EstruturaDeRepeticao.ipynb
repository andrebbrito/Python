{
 "cells": [
  {
   "cell_type": "markdown",
   "metadata": {},
   "source": [
    "IBGE: QUANTIDADE DE HOMENS E MULHERES\n",
    "\n",
    "O IBGE irá iniciar a pesquisa para definir a porcentagem da população por sexo no Brasil em 2019 e precisa da sua ajuda. Sua tarefa é, dada uma lista de pessoas que moram em uma cidade, definir a quantidade de homens e mulheres.  \n",
    "\n",
    "Entrada: Na primeira linha da entrada temos um inteiro ‘N’, representando o número de pessoas que moram na cidade. Nas próximas ‘N’ linhas haverá uma sequência de ‘N’ inteiros ‘S’ (S ∈ {1, 2}), um inteiro por linha, representando o sexo de cada pessoa, ou seja, se ‘S’ for 1 quer dizer que é um homem, se ‘S’ for 2 quer dizer que é uma mulher.\n",
    "\n",
    "Saída: A saída consiste em duas linhas contendo dois números inteiros: a primeira linha representando a quantidade de homens e a segunda linha representando a quantidade de mulheres.  \n",
    "\n",
    "Exemplo\n",
    "\n",
    "Entrada:\n",
    "\n",
    "5\n",
    "\n",
    "1\n",
    "2\n",
    "2\n",
    "1\n",
    "1\n",
    "\n",
    "Saída:\n",
    "\n",
    "Homens: 3\n",
    "\n",
    "Mulheres: 2"
   ]
  },
  {
   "cell_type": "code",
   "execution_count": 1,
   "metadata": {},
   "outputs": [
    {
     "name": "stdout",
     "output_type": "stream",
     "text": [
      "5\n",
      "1\n",
      "1\n",
      "1\n",
      "1\n",
      "2\n",
      "Homens:  4\n",
      "Mulheres:  1\n"
     ]
    }
   ],
   "source": [
    "n = int(input(\"Número de pessoas que moram na cidade\"))\n",
    "print(n)\n",
    "\n",
    "x = 0\n",
    "nHomens = 0\n",
    "nMulheres = 0 \n",
    "\n",
    "while x < n:    \n",
    "    \n",
    "    s = int(input(\"Sexo: 1 - Homem e 2 - Mulher\"))\n",
    "    print(s)\n",
    "    \n",
    "    if s == 1:\n",
    "       nHomens += 1\n",
    "    else:   \n",
    "       nMulheres += 1   \n",
    "       \n",
    "    x += 1   \n",
    "\n",
    "print(\"Homens: \",nHomens) \n",
    "print(\"Mulheres: \",nMulheres) "
   ]
  },
  {
   "cell_type": "markdown",
   "metadata": {},
   "source": [
    "Faça um programa que receba a idade de 15 pessoas, que calcule e mostre:\n",
    "a) A quantidade de pessoas em cada faixa etária;\n",
    "b) A percentagem de pessoas na primeira e na última faixa etária, com relação ao total de pessoas: \n",
    "\n",
    "Até 15 anos\n",
    "De 16 a 30 anos\n",
    "De 31 a 45 anos\n",
    "De 46 a 60 anos\n",
    "Acima de 61 anos"
   ]
  },
  {
   "cell_type": "code",
   "execution_count": null,
   "metadata": {},
   "outputs": [],
   "source": [
    "qtdPessoas = 15\n",
    "x = 0\n",
    "\n",
    "ate15anos = 0\n",
    "de16a30Anos = 0\n",
    "de31a45Anos = 0\n",
    "de46a60Anos = 0\n",
    "acimaDe61anos = 0\n",
    "\n",
    "while x < qtdPessoas:     \n",
    "    x += 1\n",
    "        \n",
    "    idade = int(input(\"Idade da pessoa \"))\n",
    "    print(idade)\n",
    "    \n",
    "    if   (idade >= 0) and (idade <= 15): \n",
    "        ate15anos += 1        \n",
    "    elif (idade >= 16) and (idade <= 30):         \n",
    "        de16a30Anos += 1        \n",
    "    elif (idade >= 31) and (idade <= 45):         \n",
    "        de31a45Anos += 1        \n",
    "    elif (idade >= 46) and (idade <= 60):         \n",
    "        de46a60Anos += 1             \n",
    "    else:\n",
    "        acimaDe61anos += 1\n",
    "        \n",
    "\n",
    "print(\"Até 15 anos : \" , ate15anos, \"(\",(ate15anos * 100/qtdPessoas), \"% )\")\n",
    "print(\"De 16 a 30 anos : \" , de16a30Anos, \"(\",(de16a30Anos * 100/qtdPessoas), \"% )\")\n",
    "print(\"De 31 a 45 anos : \" , de31a45Anos, \"(\",(de31a45Anos * 100/qtdPessoas), \"% )\")\n",
    "print(\"De 46 a 60 anos : \" , de46a60Anos, \"(\",(de46a60Anos * 100/qtdPessoas), \"% )\")\n",
    "print(\"Acima de 61 anos : \" , acimaDe61anos, \"(\",(acimaDe61anos * 100/qtdPessoas), \"% )\")"
   ]
  },
  {
   "cell_type": "markdown",
   "metadata": {},
   "source": [
    "Faça um código de um sistema avaliativo, de uma determinada disciplina, obedecer aos seguintes critérios: \n",
    "\n",
    "Durante o semestre são dadas três notas;\n",
    "A nota final é obtida pela média aritmética das três notas;\n",
    "É considerado aprovado, o aluno que obtiver a nota final superior ou igual a 6, e que tiver comparecido a um mínimo de 40 aulas. \n",
    "OBS: A quantidade de aulas pode ser pedido pelo código com a função escreva() e leia() ou pode ser pré-definido por você!"
   ]
  },
  {
   "cell_type": "code",
   "execution_count": null,
   "metadata": {},
   "outputs": [],
   "source": [
    "presencaEmAula = int(input(\"Presença em Aula: \"))\n",
    "nota = 0\n",
    "soma = 0\n",
    "media = 0\n",
    "print(\"Presença em Aula: \",presencaEmAula)\n",
    "print(\"Notas\")\n",
    "\n",
    "x = 0\n",
    "while x < 3:\n",
    "    x += 1\n",
    "    nota = float(input(\"Nota\"))\n",
    "    print(nota)  \n",
    "    soma = soma + nota \n",
    "\n",
    "media = soma/3\n",
    "print(\"Média: \",media)\n",
    "\n",
    "if (media >= 6) and (presencaEmAula >= 40): \n",
    "    print(\"APROVADO\")\n",
    "else:          \n",
    "    print(\"REPROVADO\")  "
   ]
  },
  {
   "cell_type": "markdown",
   "metadata": {},
   "source": [
    "Uma loja tem tem uma política de descontos de acordo com o valor da compra do cliente. Os descontos começam quando o cliente faz compras acima dos R$500. A cada 100 reais que ultrapasse esse valor, o cliente ganhará 1% de desconto, sendo este cumulativo até o limite de 25%. \n",
    "\n",
    "Por exemplo: R$500 = 1% || R$600,00 = 2% … e assim por diante.\n",
    "\n",
    "Faça um programa que desenvolva uma tabela de descontos utilizando o formato abaixo, você deve atribuir o valor de compra de cada cliente.\n",
    "\n",
    "valor da compra – porcentagem de desconto – valor final\n",
    "\n",
    "Exemplo:\n",
    "\n",
    "ENTRADA:\n",
    "\n",
    "Compra = 520,00\n",
    "\n",
    "SAÍDA:\n",
    "\n",
    "520,00 ( Valor da compra ) - 1% ( Porcentagem ) = 514,80 ( Valor final )"
   ]
  },
  {
   "cell_type": "code",
   "execution_count": 64,
   "metadata": {},
   "outputs": [
    {
     "name": "stdout",
     "output_type": "stream",
     "text": [
      "Valor da Compra:  540.0\n",
      "Percentual de Desconto:  0.01\n",
      "Valor Real da Compra:  534.6\n"
     ]
    }
   ],
   "source": [
    "import math\n",
    "\n",
    "valorCompra = float(input(\"Valor da Compra\"))\n",
    "percentualCompra = (math.ceil((valorCompra - 500)/100))/100\n",
    "valorRealCompra = 0\n",
    "\n",
    "if valorCompra >= 500:      \n",
    "    \n",
    "    if percentualCompra > 0.25:\n",
    "        percentualCompra = 0.25\n",
    "        \n",
    "    valorRealCompra = (valorCompra - (valorCompra * percentualCompra))\n",
    "\n",
    "else:\n",
    "    valorRealCompra = (valorCompra)\n",
    "    \n",
    "print(\"Valor da Compra: \",valorCompra)  \n",
    "print(\"Percentual de Desconto: \",percentualCompra)  \n",
    "print(\"Valor Real da Compra: \",valorRealCompra)  \n"
   ]
  },
  {
   "cell_type": "markdown",
   "metadata": {},
   "source": [
    "De acordo ao estudado em aula, crie um programa que receba um número inteiro e calcule seu fatorial.\n",
    "\n",
    "Exemplos:\n",
    "\n",
    "5! = 5*4*3*2*1 = 120\n",
    "\n",
    "8! = 8*7*6*5*4*3*2*1 = 40320"
   ]
  },
  {
   "cell_type": "code",
   "execution_count": 77,
   "metadata": {},
   "outputs": [
    {
     "name": "stdout",
     "output_type": "stream",
     "text": [
      "7\n",
      "6\n",
      "5\n",
      "4\n",
      "3\n",
      "2\n",
      "1\n",
      "40320\n"
     ]
    }
   ],
   "source": [
    "numero = 8\n",
    "x = numero\n",
    "\n",
    "while x > 1:\n",
    "    x = x - 1\n",
    "    print(x)\n",
    "    \n",
    "    numero = numero * x\n",
    "     \n",
    "print(numero)"
   ]
  },
  {
   "cell_type": "code",
   "execution_count": 1,
   "metadata": {},
   "outputs": [
    {
     "name": "stdout",
     "output_type": "stream",
     "text": [
      "[20, 1, 4, 9, 16, 25, 36, 49, 64, 81]\n"
     ]
    }
   ],
   "source": [
    "def ABC(L, n):\n",
    "\n",
    "    while True:\n",
    "\n",
    "        if len(L) >= n:\n",
    "\n",
    "            return L\n",
    "\n",
    "        else:                  \n",
    "\n",
    "            L.append(len(L) ** 2) \n",
    "\n",
    "print (ABC([20],10))"
   ]
  }
 ],
 "metadata": {
  "kernelspec": {
   "display_name": "Python 3.10.7 64-bit (microsoft store)",
   "language": "python",
   "name": "python3"
  },
  "language_info": {
   "codemirror_mode": {
    "name": "ipython",
    "version": 3
   },
   "file_extension": ".py",
   "mimetype": "text/x-python",
   "name": "python",
   "nbconvert_exporter": "python",
   "pygments_lexer": "ipython3",
   "version": "3.10.7"
  },
  "orig_nbformat": 4,
  "vscode": {
   "interpreter": {
    "hash": "191c5e2111f6f71ffba11bdabdd10d2f5104f8b09e00bef630460c281b5383c9"
   }
  }
 },
 "nbformat": 4,
 "nbformat_minor": 2
}
