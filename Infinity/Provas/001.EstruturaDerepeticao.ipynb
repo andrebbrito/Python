{
 "cells": [
  {
   "cell_type": "markdown",
   "metadata": {},
   "source": [
    "\n",
    "[LP-A02] Essa prova pode ser respondida com a linguagem de programação Python, Portugol ou visualg.\n",
    "\n",
    "IBGE: QUANTIDADE DE HOMENS E MULHERES\n",
    "\n",
    "O IBGE irá iniciar a pesquisa para definir a porcentagem da população por sexo no Brasil em 2019 e precisa da sua ajuda. Sua tarefa é, dada uma lista de pessoas que moram em uma cidade, definir a quantidade de homens e mulheres.  \n",
    "\n",
    "Entrada: Na primeira linha da entrada temos um inteiro ‘N’, representando o número de pessoas que moram na cidade. Nas próximas ‘N’ linhas haverá uma sequência de ‘N’ inteiros ‘S’ (S ∈ {1, 2}), um inteiro por linha, representando o sexo de cada pessoa, ou seja, se ‘S’ for 1 quer dizer que é um homem, se ‘S’ for 2 quer dizer que é uma mulher.\n",
    "\n",
    "Saída: A saída consiste em duas linhas contendo dois números inteiros: a primeira linha representando a quantidade de homens e a segunda linha representando a quantidade de mulheres.  \n",
    "\n",
    "Exemplo\n",
    "\n",
    "Entrada:\n",
    "\n",
    "5\n",
    "\n",
    "1\n",
    "2\n",
    "2\n",
    "1\n",
    "1\n",
    "\n",
    "Saída:\n",
    "\n",
    "Homens: 3\n",
    "\n",
    "Mulheres: 2"
   ]
  },
  {
   "cell_type": "code",
   "execution_count": 15,
   "metadata": {},
   "outputs": [
    {
     "name": "stdout",
     "output_type": "stream",
     "text": [
      "5\n",
      "1\n",
      "2\n",
      "2\n",
      "1\n",
      "1\n",
      "Homens:  3\n",
      "Mulheres:  2\n"
     ]
    }
   ],
   "source": [
    "n = int(input(\"Número de pessoas que moram na cidade\"))\n",
    "print(n)\n",
    "\n",
    "x = 0\n",
    "nHomens = 0\n",
    "nMulheres = 0 \n",
    "\n",
    "while x < n:    \n",
    "    \n",
    "    s = int(input(\"Sexo: 1 - Homem e 2 - Mulher\"))\n",
    "    print(s)\n",
    "    \n",
    "    if s == 1:\n",
    "       nHomens += 1\n",
    "    else:   \n",
    "       nMulheres += 1   \n",
    "       \n",
    "    x += 1   \n",
    "\n",
    "print(\"Homens: \",nHomens) \n",
    "print(\"Mulheres: \",nMulheres) \n",
    "\n",
    "\n",
    "\n"
   ]
  },
  {
   "cell_type": "markdown",
   "metadata": {},
   "source": [
    "[LP-A02] Essa prova pode ser respondida com a linguagem de programação Python, Portugol ou Visualg.\n",
    "\n",
    "Faça um programa que receba a idade de 15 pessoas, que calcule e mostre:\n",
    "a) A quantidade de pessoas em cada faixa etária;\n",
    "b) A percentagem de pessoas na primeira e na última faixa etária, com relação ao total de pessoas: \n",
    "\n",
    "Até 15 anos\n",
    "De 16 a 30 anos\n",
    "De 31 a 45 anos\n",
    "De 46 a 60 anos\n",
    "Acima de 61 anos"
   ]
  },
  {
   "cell_type": "code",
   "execution_count": 28,
   "metadata": {},
   "outputs": [
    {
     "name": "stdout",
     "output_type": "stream",
     "text": [
      "1\n",
      "5\n",
      "10\n",
      "17\n",
      "19\n",
      "20\n",
      "26\n",
      "36\n",
      "54\n",
      "90\n",
      "86\n",
      "14\n",
      "16\n",
      "13\n",
      "11\n",
      "Até 15 anos :  6 ( 40.0 % )\n",
      "De 16 a 30 anos :  5 ( 33.333333333333336 % )\n",
      "De 31 a 45 anos :  1 ( 6.666666666666667 % )\n",
      "De 46 a 60 anos :  1 ( 6.666666666666667 % )\n",
      "Acima de 61 anos :  2 ( 13.333333333333334 % )\n"
     ]
    }
   ],
   "source": [
    "qtdPessoas = 15\n",
    "x = 0\n",
    "\n",
    "ate15anos = 0\n",
    "de16a30Anos = 0\n",
    "de31a45Anos = 0\n",
    "de46a60Anos = 0\n",
    "acimaDe61anos = 0\n",
    "\n",
    "while x < qtdPessoas:     \n",
    "    x += 1\n",
    "        \n",
    "    idade = int(input(\"Idade da pessoa \"))\n",
    "    print(idade)\n",
    "    \n",
    "    if   (idade >= 0) and (idade <= 15): \n",
    "        ate15anos += 1        \n",
    "    elif (idade >= 16) and (idade <= 30):         \n",
    "        de16a30Anos += 1        \n",
    "    elif (idade >= 31) and (idade <= 45):         \n",
    "        de31a45Anos += 1        \n",
    "    elif (idade >= 46) and (idade <= 60):         \n",
    "        de46a60Anos += 1             \n",
    "    else:\n",
    "        acimaDe61anos += 1\n",
    "        \n",
    "\n",
    "print(\"Até 15 anos : \" , ate15anos, \"(\",(ate15anos * 100/qtdPessoas), \"% )\")\n",
    "print(\"De 16 a 30 anos : \" , de16a30Anos, \"(\",(de16a30Anos * 100/qtdPessoas), \"% )\")\n",
    "print(\"De 31 a 45 anos : \" , de31a45Anos, \"(\",(de31a45Anos * 100/qtdPessoas), \"% )\")\n",
    "print(\"De 46 a 60 anos : \" , de46a60Anos, \"(\",(de46a60Anos * 100/qtdPessoas), \"% )\")\n",
    "print(\"Acima de 61 anos : \" , acimaDe61anos, \"(\",(acimaDe61anos * 100/qtdPessoas), \"% )\")"
   ]
  }
 ],
 "metadata": {
  "kernelspec": {
   "display_name": "Python 3.10.5 64-bit",
   "language": "python",
   "name": "python3"
  },
  "language_info": {
   "codemirror_mode": {
    "name": "ipython",
    "version": 3
   },
   "file_extension": ".py",
   "mimetype": "text/x-python",
   "name": "python",
   "nbconvert_exporter": "python",
   "pygments_lexer": "ipython3",
   "version": "3.10.5"
  },
  "orig_nbformat": 4,
  "vscode": {
   "interpreter": {
    "hash": "69a5bf37dd3aa96827bed6961368c96a168bb8dd00c8fc591bdeb7f585607dae"
   }
  }
 },
 "nbformat": 4,
 "nbformat_minor": 2
}
