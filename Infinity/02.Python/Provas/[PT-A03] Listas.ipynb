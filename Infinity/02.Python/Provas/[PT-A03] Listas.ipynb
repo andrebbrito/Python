{
 "cells": [
  {
   "cell_type": "markdown",
   "metadata": {},
   "source": [
    "[PT-A03] com intuito de organizar o pasto, o fazendeiro que andava estudando a linguagem Python queria fazer um arranjo em sua fazenda  usando o método de listas, sabendo disso ajude o agrônomo a realizar essa mudança. Levando em consideração que no pasto 1 (que também é uma lista)tem  4 listas com um animal diferente em cada(animais da sua escolha)e dentro dessas listas havia 4 cores de animais(cores da sua escolha porém sempre diferentes),faça um código responsável por mudar 3 listas de animais do pasto 1 para o pasto 2 que estava vazio e imprimindo o resultado final dos animais do pasto 2 e os animais do pasto 1 \n",
    "\n",
    "Exemplo de lista de animal:zebras=['zebras=',\"branca\",\"bege\",\"preta\"],\n",
    "OBS :Use as funções de manipulação de listas "
   ]
  },
  {
   "cell_type": "code",
   "execution_count": 18,
   "metadata": {},
   "outputs": [
    {
     "name": "stdout",
     "output_type": "stream",
     "text": [
      "Como ficou o Pasto 1\n",
      "[['Boi', 'A', 'S', 'D', 'F'], ['Porco', 'W', 'E', 'R', 'T'], ['Gato', 'A', 'C', 'X', 'Z']]\n",
      "Copiando as 3 primeiras listas para o Pasto 2\n",
      "Pasto 1 - Final\n",
      "[['Porco', 'W', 'E', 'R', 'T'], ['Gato', 'A', 'C', 'X', 'Z']]\n",
      "Pasto 2 - Final\n",
      "[['Boi', 'A', 'S', 'D', 'F']]\n"
     ]
    }
   ],
   "source": [
    "pasto1 = []\n",
    "pasto2 = []\n",
    "\n",
    "for x in range(4):\n",
    "    animais = []\n",
    "    \n",
    "    animal = input('Digite o animal')    \n",
    "    animais.append(animal)    \n",
    "        \n",
    "    cor1 = input('Digite a cor 1')    \n",
    "    animais.append(cor1)\n",
    "    \n",
    "    cor2 = input('Digite a cor 2')    \n",
    "    animais.append(cor2)\n",
    "    \n",
    "    cor3 = input('Digite a cor 3')    \n",
    "    animais.append(cor3)\n",
    "    \n",
    "    cor4 = input('Digite a cor 4')    \n",
    "    animais.append(cor4)\n",
    "    \n",
    "    pasto1.append(animais)    \n",
    "    \n",
    "print(\"Como ficou o Pasto 1\")\n",
    "print(pasto1)         \n",
    "\n",
    "print(\"Copiando as 3 primeiras listas para o Pasto 2\")\n",
    "for y in range(1):\n",
    "    pasto2.append(pasto1[y])\n",
    "    pasto1.pop(y)\n",
    "\n",
    "print(\"Pasto 1 - Final\")\n",
    "print(pasto1)\n",
    "\n",
    "print(\"Pasto 2 - Final\")\n",
    "print(pasto2)\n",
    "\n",
    "\n",
    "\n",
    "\n",
    "\n"
   ]
  }
 ],
 "metadata": {
  "kernelspec": {
   "display_name": "Python 3.10.5 64-bit",
   "language": "python",
   "name": "python3"
  },
  "language_info": {
   "codemirror_mode": {
    "name": "ipython",
    "version": 3
   },
   "file_extension": ".py",
   "mimetype": "text/x-python",
   "name": "python",
   "nbconvert_exporter": "python",
   "pygments_lexer": "ipython3",
   "version": "3.10.5"
  },
  "orig_nbformat": 4,
  "vscode": {
   "interpreter": {
    "hash": "69a5bf37dd3aa96827bed6961368c96a168bb8dd00c8fc591bdeb7f585607dae"
   }
  }
 },
 "nbformat": 4,
 "nbformat_minor": 2
}
