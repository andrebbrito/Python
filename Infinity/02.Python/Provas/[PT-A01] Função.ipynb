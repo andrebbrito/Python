{
 "cells": [
  {
   "cell_type": "markdown",
   "metadata": {},
   "source": [
    "\n",
    "[PT-A01] Escreva uma função que recebe um determinado ano e retorne o século daquele ano.\n",
    "\n",
    "Exemplo:\n",
    "Entrada -> 1453\n",
    "Saída   -> XV"
   ]
  },
  {
   "cell_type": "code",
   "execution_count": 4,
   "metadata": {},
   "outputs": [
    {
     "name": "stdout",
     "output_type": "stream",
     "text": [
      "XV\n"
     ]
    }
   ],
   "source": [
    "def Seculo(ano):    \n",
    "    if ano >= 1 and ano <= 100:        \n",
    "        return 'I'  \n",
    "    elif ano >= 101 and ano <= 200:\n",
    "        return 'II'\n",
    "    elif ano >= 201 and ano <= 300:        \n",
    "        return 'III'    \n",
    "    elif ano >= 301 and ano <= 400:\n",
    "        return 'IV'\n",
    "    elif ano >= 401 and ano <= 500:\n",
    "        return 'V'\n",
    "    elif ano >= 501 and ano <= 600:\n",
    "        return 'VI'\n",
    "    elif ano >= 601 and ano <= 700:\n",
    "        return 'VII'\n",
    "    elif ano >= 701 and ano <= 800:\n",
    "        return 'VIII'\n",
    "    elif ano >= 801 and ano <= 900:\n",
    "        return 'IX'\n",
    "    elif ano >= 901 and ano <= 1000:\n",
    "        return 'X'\n",
    "    elif ano >= 1001 and ano <= 1100:\n",
    "        return 'XI'\n",
    "    elif ano >= 1101 and ano <= 1200:\n",
    "        return 'XII'\n",
    "    elif ano >= 1201 and ano <= 1300:\n",
    "        return 'XIII'\n",
    "    elif ano >= 1301 and ano <= 1400:\n",
    "        return 'XIV'    \n",
    "    elif ano >= 1401 and ano <= 1500:\n",
    "        return 'XV'\n",
    "    elif ano >= 1501 and ano <= 1600:\n",
    "        return 'XVI'\n",
    "    elif ano >= 1601 and ano <= 1700:\n",
    "        return 'XVII'\n",
    "    elif ano >= 1701 and ano <= 1800:\n",
    "        return 'XVIII'\n",
    "    elif ano >= 1801 and ano <= 1900:\n",
    "        return 'XIX'\n",
    "    elif ano >= 1901 and ano <= 2000:\n",
    "        return 'XX'    \n",
    "    elif ano >= 2000 and ano <= 2100:\n",
    "        return 'XXI'\n",
    "    \n",
    "print(Seculo(1453))  \n",
    "\n",
    "  "
   ]
  }
 ],
 "metadata": {
  "kernelspec": {
   "display_name": "Python 3.10.7 64-bit (microsoft store)",
   "language": "python",
   "name": "python3"
  },
  "language_info": {
   "codemirror_mode": {
    "name": "ipython",
    "version": 3
   },
   "file_extension": ".py",
   "mimetype": "text/x-python",
   "name": "python",
   "nbconvert_exporter": "python",
   "pygments_lexer": "ipython3",
   "version": "3.10.7"
  },
  "orig_nbformat": 4,
  "vscode": {
   "interpreter": {
    "hash": "191c5e2111f6f71ffba11bdabdd10d2f5104f8b09e00bef630460c281b5383c9"
   }
  }
 },
 "nbformat": 4,
 "nbformat_minor": 2
}
