{
 "cells": [
  {
   "cell_type": "code",
   "execution_count": 7,
   "metadata": {},
   "outputs": [
    {
     "name": "stdout",
     "output_type": "stream",
     "text": [
      "Andre é do tipo: <class 'str'>\n",
      "nd\n"
     ]
    }
   ],
   "source": [
    "nome = 'Andre'\n",
    "\n",
    "# imprimir o tipo da váriavel\n",
    "print(nome + ' é do tipo: ' + str(type(nome)))\n",
    "\n",
    "# pegando as posições de cada letra dentro da string\n",
    "print(nome[1:3])"
   ]
  }
 ],
 "metadata": {
  "kernelspec": {
   "display_name": "Python 3.9.13 64-bit (windows store)",
   "language": "python",
   "name": "python3"
  },
  "language_info": {
   "codemirror_mode": {
    "name": "ipython",
    "version": 3
   },
   "file_extension": ".py",
   "mimetype": "text/x-python",
   "name": "python",
   "nbconvert_exporter": "python",
   "pygments_lexer": "ipython3",
   "version": "3.9.13"
  },
  "orig_nbformat": 4,
  "vscode": {
   "interpreter": {
    "hash": "375f1d2bbe83e6c44489d4ed4b817379674de30be230c65b5a8eb4f680423b15"
   }
  }
 },
 "nbformat": 4,
 "nbformat_minor": 2
}
