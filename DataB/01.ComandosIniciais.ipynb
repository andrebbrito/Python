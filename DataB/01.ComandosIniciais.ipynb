{
 "cells": [
  {
   "cell_type": "code",
   "execution_count": 4,
   "metadata": {},
   "outputs": [
    {
     "name": "stdout",
     "output_type": "stream",
     "text": [
      "8\n",
      "Olá Mundo\n"
     ]
    }
   ],
   "source": [
    "\n",
    "a = 3\n",
    "b = 5\n",
    "c = a + b\n",
    "print(c)\n",
    " \n",
    "print(\"Olá Mundo\") "
   ]
  }
 ],
 "metadata": {
  "kernelspec": {
   "display_name": "Python 3.9.13 64-bit (windows store)",
   "language": "python",
   "name": "python3"
  },
  "language_info": {
   "codemirror_mode": {
    "name": "ipython",
    "version": 3
   },
   "file_extension": ".py",
   "mimetype": "text/x-python",
   "name": "python",
   "nbconvert_exporter": "python",
   "pygments_lexer": "ipython3",
   "version": "3.9.13"
  },
  "orig_nbformat": 4,
  "vscode": {
   "interpreter": {
    "hash": "375f1d2bbe83e6c44489d4ed4b817379674de30be230c65b5a8eb4f680423b15"
   }
  }
 },
 "nbformat": 4,
 "nbformat_minor": 2
}
