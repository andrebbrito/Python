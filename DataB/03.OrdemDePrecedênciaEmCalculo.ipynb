{
 "cells": [
  {
   "cell_type": "code",
   "execution_count": 3,
   "metadata": {},
   "outputs": [
    {
     "name": "stdout",
     "output_type": "stream",
     "text": [
      "7\n",
      "10\n"
     ]
    }
   ],
   "source": [
    " Calculo1 = 3 + 2 * 2\n",
    " print(Calculo1)\n",
    " Calculo2 =  (3 + 2) * 2\n",
    " print(Calculo2)"
   ]
  },
  {
   "cell_type": "code",
   "execution_count": 4,
   "metadata": {},
   "outputs": [
    {
     "name": "stdout",
     "output_type": "stream",
     "text": [
      "10\n",
      "27\n"
     ]
    }
   ],
   "source": [
    " Calculo1 = 3 ** 2 + 1\n",
    " print(Calculo1)\n",
    " Calculo2 =  3 ** (2 + 1)\n",
    " print(Calculo2)"
   ]
  },
  {
   "cell_type": "code",
   "execution_count": 5,
   "metadata": {},
   "outputs": [
    {
     "name": "stdout",
     "output_type": "stream",
     "text": [
      "19\n",
      "2.5\n",
      "10.0\n"
     ]
    }
   ],
   "source": [
    " Calculo1 = 3 * 4 + 7\n",
    " print(Calculo1)\n",
    " \n",
    " Calculo2 = 5 * 2 / 4\n",
    " print(Calculo2)\n",
    " \n",
    " Calculo3 = 5 / 2 * 4\n",
    " print(Calculo3)"
   ]
  }
 ],
 "metadata": {
  "kernelspec": {
   "display_name": "Python 3.9.13 64-bit (windows store)",
   "language": "python",
   "name": "python3"
  },
  "language_info": {
   "codemirror_mode": {
    "name": "ipython",
    "version": 3
   },
   "file_extension": ".py",
   "mimetype": "text/x-python",
   "name": "python",
   "nbconvert_exporter": "python",
   "pygments_lexer": "ipython3",
   "version": "3.9.13"
  },
  "orig_nbformat": 4,
  "vscode": {
   "interpreter": {
    "hash": "52fef9f371462526e6c16fbedf2b5b9bc32d90752958a415cf9672d41d7c1c70"
   }
  }
 },
 "nbformat": 4,
 "nbformat_minor": 2
}
