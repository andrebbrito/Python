{
 "cells": [
  {
   "cell_type": "code",
   "execution_count": 2,
   "metadata": {},
   "outputs": [
    {
     "name": "stdout",
     "output_type": "stream",
     "text": [
      "{'Maria': 5}\n",
      "{'Maria': 5, 'Julieta': 7}\n",
      "{'Maria': 5, 'Julieta': 7, 'Fernando': 8}\n",
      "{'Maria': 5, 'Julieta': 7, 'Fernando': 8, 'Cristiano': 9}\n",
      "{'Maria': 5, 'Julieta': 7, 'Fernando': 8, 'Cristiano': 9}\n",
      "{'Maria': 5, 'Julieta': 7, 'Fernando': 8, 'Cristiano': 9}\n",
      "{'Maria': 5, 'Julieta': 7, 'Fernando': 8, 'Cristiano': 9}\n",
      "{'Maria': 5, 'Julieta': 7, 'Fernando': 8, 'Cristiano': 9, 'Cláudio': 7}\n"
     ]
    }
   ],
   "source": [
    "#relação dos nomes\n",
    "nomes = ['Maria', 'Julieta', 'Fernando', 'Cristiano', 'Julieta', 'Maria', 'Fernando', 'Cláudio']\n",
    "# estrutura que irá armazenar o número de letras de cada nome\n",
    "qtd_letras = {}\n",
    "# calcula o tamanho de cada nome (em número de letras) e armazena o valor na estrutura\n",
    "for nome in nomes:\n",
    " qtd_letras[nome] = len(nome)\n",
    " \n",
    " print(qtd_letras)\n",
    " \n",
    " "
   ]
  },
  {
   "cell_type": "code",
   "execution_count": null,
   "metadata": {},
   "outputs": [],
   "source": [
    "# Atividade 02. Reescreva o código da Atividade 01 utilizando o conceito de compreensão de dicionários (dict comprehension).\n",
    "\n",
    "qtd_letras = {}"
   ]
  }
 ],
 "metadata": {
  "kernelspec": {
   "display_name": "Python 3.9.13 64-bit (windows store)",
   "language": "python",
   "name": "python3"
  },
  "language_info": {
   "codemirror_mode": {
    "name": "ipython",
    "version": 3
   },
   "file_extension": ".py",
   "mimetype": "text/x-python",
   "name": "python",
   "nbconvert_exporter": "python",
   "pygments_lexer": "ipython3",
   "version": "3.9.13"
  },
  "orig_nbformat": 4,
  "vscode": {
   "interpreter": {
    "hash": "52fef9f371462526e6c16fbedf2b5b9bc32d90752958a415cf9672d41d7c1c70"
   }
  }
 },
 "nbformat": 4,
 "nbformat_minor": 2
}
